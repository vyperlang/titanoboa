{
 "cells": [
  {
   "cell_type": "code",
   "execution_count": 1,
   "id": "94744db8",
   "metadata": {},
   "outputs": [],
   "source": "%load_ext boa.ipython"
  },
  {
   "metadata": {},
   "cell_type": "code",
   "outputs": [],
   "execution_count": 2,
   "source": [
    "import boa\n",
    "boa.set_browser_env()  # this will use the browser signer and the browser RPC"
   ],
   "id": "b724995f3df612f0"
  },
  {
   "cell_type": "code",
   "execution_count": 3,
   "id": "1e98969d",
   "metadata": {},
   "outputs": [
    {
     "data": {
      "text/plain": [
       "<boa.vyper.contract.VyperDeployer at 0x7f5150614a90>"
      ]
     },
     "execution_count": 3,
     "metadata": {},
     "output_type": "execute_result"
    }
   ],
   "source": [
    "%%vyper MyContract\n",
    "\n",
    "totalSupply: uint256\n",
    "balances: HashMap[address, uint256]\n",
    "\n",
    "@external\n",
    "def __init__(t: uint256):\n",
    "    self.totalSupply = t\n",
    "    self.balances[self] = t"
   ]
  },
  {
   "cell_type": "code",
   "execution_count": 4,
   "id": "c5b60ed3",
   "metadata": {},
   "outputs": [
    {
     "name": "stdout",
     "output_type": "stream",
     "text": [
      "tx broadcasted: 0x...<truncated>\n",
      "0x...<truncated> mined in block 0x...<truncated>!\n",
      "contract deployed at 0x...<truncated>\n"
     ]
    }
   ],
   "source": [
    "c = MyContract.deploy(1000)"
   ]
  },
  {
   "cell_type": "code",
   "execution_count": 5,
   "id": "bdbfc09c",
   "metadata": {},
   "outputs": [
    {
     "data": {
      "text/plain": [
       "<MyContract at 0x...<truncated>, compiled with vyper-0.3.9+66b9670>\n",
       "<storage: totalSupply=1000, balances={'0x...<truncated>': 1000}>"
      ]
     },
     "execution_count": 5,
     "metadata": {},
     "output_type": "execute_result"
    }
   ],
   "source": [
    "c"
   ]
  }
 ],
 "metadata": {
  "kernelspec": {
   "display_name": "Python 3 (ipykernel)",
   "language": "python",
   "name": "python3"
  },
  "language_info": {
   "codemirror_mode": {
    "name": "ipython",
    "version": 3
   },
   "file_extension": ".py",
   "mimetype": "text/x-python",
   "name": "python",
   "nbconvert_exporter": "python",
   "pygments_lexer": "ipython3",
   "version": "3.11.4"
  }
 },
 "nbformat": 4,
 "nbformat_minor": 5
}
